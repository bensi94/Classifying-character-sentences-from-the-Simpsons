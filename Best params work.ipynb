{
 "cells": [
  {
   "cell_type": "code",
   "execution_count": 1,
   "metadata": {},
   "outputs": [],
   "source": [
    "# Imports and read the simpson data in\n",
    "import pandas as pd\n",
    "import numpy as np\n",
    "import seaborn as sns\n",
    "import matplotlib.pyplot as plt\n",
    "import csv\n",
    "from collections import Counter\n",
    "from sklearn.feature_extraction.text import TfidfVectorizer\n",
    "from sklearn.feature_selection import SelectKBest, chi2\n",
    "from sklearn.model_selection import train_test_split\n",
    "from sklearn.naive_bayes import MultinomialNB\n",
    "from sklearn.metrics import accuracy_score\n",
    "from sklearn.metrics import confusion_matrix\n",
    "from sklearn.linear_model import LogisticRegression\n",
    "from sklearn.tree import DecisionTreeClassifier\n",
    "from sklearn.svm import LinearSVC, SVC\n",
    "from sklearn.neighbors import KNeighborsClassifier\n",
    "from sklearn.model_selection import GridSearchCV\n",
    "from sklearn_pandas import DataFrameMapper\n",
    "from sklearn.preprocessing import LabelEncoder\n",
    "import datetime"
   ]
  },
  {
   "cell_type": "code",
   "execution_count": 2,
   "metadata": {},
   "outputs": [],
   "source": [
    "simpsons_df = pd.read_csv('simpsons_script_lines.csv', error_bad_lines=False, warn_bad_lines=False, low_memory=False, index_col='id')\n",
    "\n",
    "def dict_from_csv(csv_file_name):\n",
    "    with open(csv_file_name, mode='r') as infile:\n",
    "        next(infile)\n",
    "        reader = csv.reader(infile)\n",
    "        return_dict = {int(rows[0]):rows[1] for rows in reader}\n",
    "        return return_dict\n",
    "\n",
    "character_dict = dict_from_csv('simpsons_characters.csv')\n",
    "location_dict = dict_from_csv('simpsons_locations.csv') "
   ]
  },
  {
   "cell_type": "code",
   "execution_count": 3,
   "metadata": {},
   "outputs": [],
   "source": [
    "# Clear up the data\n",
    "# We need to have value in character_id, location_id, and normalized_text so we drop nan rows\n",
    "simpsons_df = simpsons_df.dropna(subset=['character_id', 'location_id', 'normalized_text'])\n",
    "# In number, timestamp_in_ms, raw_text, and speaking_line we have no extra information so we drop those columns\n",
    "simpsons_df = simpsons_df.drop(['number', 'timestamp_in_ms', 'raw_text', 'speaking_line'], axis=1)\n",
    "# Change numeric values to numeric\n",
    "simpsons_df['character_id'] = pd.to_numeric(simpsons_df['character_id'])\n",
    "simpsons_df['location_id'] = pd.to_numeric(simpsons_df['location_id'], downcast='integer')\n",
    "simpsons_df['word_count'] = pd.to_numeric(simpsons_df['word_count'], downcast='integer')"
   ]
  },
  {
   "cell_type": "code",
   "execution_count": 4,
   "metadata": {},
   "outputs": [],
   "source": [
    "# Count how many lines each character has\n",
    "character_line_counts = Counter(simpsons_df['character_id']).most_common()\n",
    "\n",
    "most_common_characters = []\n",
    "\n",
    "# If character has fewer than 200 lines we will not inlcude that character\n",
    "for character in character_line_counts:\n",
    "    if character[1] >= 1500:\n",
    "        most_common_characters.append(character[0])\n",
    "simpsons_df = simpsons_df[simpsons_df['character_id'].isin(most_common_characters)]\n",
    "\n",
    "temp_dict = {character: character_dict[character] for character in most_common_characters}\n",
    "character_dict = temp_dict"
   ]
  },
  {
   "cell_type": "code",
   "execution_count": 5,
   "metadata": {},
   "outputs": [],
   "source": [
    "# Count how many lines are at location\n",
    "locations = Counter(simpsons_df['location_id']).most_common()\n",
    "\n",
    "most_common_locations = []\n",
    "\n",
    "# If there are fewer than 100 lines at location we do not use that location\n",
    "for location in locations:\n",
    "    if location[1] >= 100:\n",
    "        most_common_locations.append(location[0])\n",
    "simpsons_df = simpsons_df[simpsons_df['location_id'].isin(most_common_locations)]\n",
    "\n",
    "temp_dict = {location: location_dict[location] for location in most_common_locations}\n",
    "location_dict = temp_dict"
   ]
  },
  {
   "cell_type": "code",
   "execution_count": 6,
   "metadata": {},
   "outputs": [
    {
     "data": {
      "image/png": "[encoded data removed]",
      "text/plain": [
       "<matplotlib.figure.Figure at 0x1110eb780>"
      ]
     },
     "metadata": {},
     "output_type": "display_data"
    }
   ],
   "source": [
    "# Here we count how many sentences each character has \n",
    "value_counts = simpsons_df['character_id'].value_counts()\n",
    "# Plot a bar plot with the counts\n",
    "count_plot = value_counts.plot(kind='bar', figsize=(15,8))\n",
    "# Change the ID of thoose characters to names\n",
    "count_plot.set_xticklabels([character_dict[i] for i in value_counts.keys()])\n",
    "plt.show()"
   ]
  },
  {
   "cell_type": "code",
   "execution_count": 7,
   "metadata": {},
   "outputs": [
    {
     "data": {
      "text/plain": [
       "(52204, 8895)"
      ]
     },
     "execution_count": 7,
     "metadata": {},
     "output_type": "execute_result"
    }
   ],
   "source": [
    "# GOTT FYRIR SKÝRSLU: NOTUM TfidfVectorizer útaf því það er nákvæmara en CountVectorizer\n",
    "# CountVectorizer telur bara frequncy á orðunum en TfidfVectorizer gerir mun á hversu frequent orð eru\n",
    "# Nánara info hér: https://www.quora.com/What-is-the-difference-between-TfidfVectorizer-and-CountVectorizer-1\n",
    "\n",
    "# Min_df is the minimum amount of toke frequency to be kept\n",
    "# stop_words is to skip words like 'a, the' etc.\n",
    "# sublinear_tf is used so we can do sublinear tf scaling (replace tf with 1+log(tf))\n",
    "# Norm L2 is L2-normalization to minimize single outliers\n",
    "# ngram_range is 1,3 so we select tokens of wordsizes: 1, 2 and 3\n",
    "\n",
    "tfidf = TfidfVectorizer(sublinear_tf=True, min_df=5, stop_words='english', norm='l2', ngram_range=(1,3))\n",
    "\n",
    "features = tfidf.fit_transform(simpsons_df.normalized_text)\n",
    "labels = simpsons_df.character_id\n",
    "features.shape"
   ]
  },
  {
   "cell_type": "code",
   "execution_count": 8,
   "metadata": {},
   "outputs": [
    {
     "data": {
      "text/html": [
       "<div>\n",
       "<style scoped>\n",
       "    .dataframe tbody tr th:only-of-type {\n",
       "        vertical-align: middle;\n",
       "    }\n",
       "\n",
       "    .dataframe tbody tr th {\n",
       "        vertical-align: top;\n",
       "    }\n",
       "\n",
       "    .dataframe thead th {\n",
       "        text-align: right;\n",
       "    }\n",
       "</style>\n",
       "<table border=\"1\" class=\"dataframe\">\n",
       "  <thead>\n",
       "    <tr style=\"text-align: right;\">\n",
       "      <th></th>\n",
       "      <th>Token 1</th>\n",
       "      <th>Token 2</th>\n",
       "      <th>Token 3</th>\n",
       "      <th>Token 4</th>\n",
       "      <th>Token 5</th>\n",
       "    </tr>\n",
       "  </thead>\n",
       "  <tbody>\n",
       "    <tr>\n",
       "      <th>UNI: Homer Simpson</th>\n",
       "      <td>hoo</td>\n",
       "      <td>dad</td>\n",
       "      <td>woo</td>\n",
       "      <td>homer</td>\n",
       "      <td>marge</td>\n",
       "    </tr>\n",
       "    <tr>\n",
       "      <th>BIG: Homer Simpson</th>\n",
       "      <td>marge youre</td>\n",
       "      <td>heh heh</td>\n",
       "      <td>marge im</td>\n",
       "      <td>oh marge</td>\n",
       "      <td>woo hoo</td>\n",
       "    </tr>\n",
       "    <tr>\n",
       "      <th>UNI: Marge Simpson</th>\n",
       "      <td>husband</td>\n",
       "      <td>hey</td>\n",
       "      <td>dad</td>\n",
       "      <td>homie</td>\n",
       "      <td>homer</td>\n",
       "    </tr>\n",
       "    <tr>\n",
       "      <th>BIG: Marge Simpson</th>\n",
       "      <td>homer doing</td>\n",
       "      <td>homie im</td>\n",
       "      <td>homer dont</td>\n",
       "      <td>oh homer</td>\n",
       "      <td>oh homie</td>\n",
       "    </tr>\n",
       "    <tr>\n",
       "      <th>UNI: Bart Simpson</th>\n",
       "      <td>carumba</td>\n",
       "      <td>cool</td>\n",
       "      <td>milhouse</td>\n",
       "      <td>dad</td>\n",
       "      <td>lis</td>\n",
       "    </tr>\n",
       "    <tr>\n",
       "      <th>BIG: Bart Simpson</th>\n",
       "      <td>radioactive man</td>\n",
       "      <td>aye carumba</td>\n",
       "      <td>hey dad</td>\n",
       "      <td>hey lis</td>\n",
       "      <td>ay carumba</td>\n",
       "    </tr>\n",
       "    <tr>\n",
       "      <th>UNI: Lisa Simpson</th>\n",
       "      <td>marge</td>\n",
       "      <td>homer</td>\n",
       "      <td>bart</td>\n",
       "      <td>mom</td>\n",
       "      <td>dad</td>\n",
       "    </tr>\n",
       "    <tr>\n",
       "      <th>BIG: Lisa Simpson</th>\n",
       "      <td>dad think</td>\n",
       "      <td>oh dad</td>\n",
       "      <td>dad did</td>\n",
       "      <td>dad im</td>\n",
       "      <td>dad thats</td>\n",
       "    </tr>\n",
       "    <tr>\n",
       "      <th>UNI: C. Montgomery Burns</th>\n",
       "      <td>hounds</td>\n",
       "      <td>bah</td>\n",
       "      <td>simpson</td>\n",
       "      <td>excellent</td>\n",
       "      <td>smithers</td>\n",
       "    </tr>\n",
       "    <tr>\n",
       "      <th>BIG: C. Montgomery Burns</th>\n",
       "      <td>youre fired</td>\n",
       "      <td>oh smithers</td>\n",
       "      <td>look smithers</td>\n",
       "      <td>smithers im</td>\n",
       "      <td>simpson eh</td>\n",
       "    </tr>\n",
       "  </tbody>\n",
       "</table>\n",
       "</div>"
      ],
      "text/plain": [
       "                                  Token 1      Token 2        Token 3  \\\n",
       "UNI: Homer Simpson                    hoo          dad            woo   \n",
       "BIG: Homer Simpson            marge youre      heh heh       marge im   \n",
       "UNI: Marge Simpson                husband          hey            dad   \n",
       "BIG: Marge Simpson            homer doing     homie im     homer dont   \n",
       "UNI: Bart Simpson                 carumba         cool       milhouse   \n",
       "BIG: Bart Simpson         radioactive man  aye carumba        hey dad   \n",
       "UNI: Lisa Simpson                   marge        homer           bart   \n",
       "BIG: Lisa Simpson               dad think       oh dad        dad did   \n",
       "UNI: C. Montgomery Burns           hounds          bah        simpson   \n",
       "BIG: C. Montgomery Burns      youre fired  oh smithers  look smithers   \n",
       "\n",
       "                              Token 4     Token 5  \n",
       "UNI: Homer Simpson              homer       marge  \n",
       "BIG: Homer Simpson           oh marge     woo hoo  \n",
       "UNI: Marge Simpson              homie       homer  \n",
       "BIG: Marge Simpson           oh homer    oh homie  \n",
       "UNI: Bart Simpson                 dad         lis  \n",
       "BIG: Bart Simpson             hey lis  ay carumba  \n",
       "UNI: Lisa Simpson                 mom         dad  \n",
       "BIG: Lisa Simpson              dad im   dad thats  \n",
       "UNI: C. Montgomery Burns    excellent    smithers  \n",
       "BIG: C. Montgomery Burns  smithers im  simpson eh  "
      ]
     },
     "execution_count": 8,
     "metadata": {},
     "output_type": "execute_result"
    }
   ],
   "source": [
    "most_popular_df = pd.DataFrame()\n",
    "# Get the 5 most popular tokens\n",
    "token_count = 5\n",
    "tokenNames = ['Token ' + str(i) for i in range(1, token_count+1)]\n",
    "\n",
    "for character_id in character_dict:\n",
    "    features_chi2 = chi2(features, labels == character_id)\n",
    "    # Here the we sort the most common features of each character in order\n",
    "    # features_chi2[0] stands for chi statistics of each character\n",
    "    indices = np.argsort(features_chi2[0])\n",
    "    feature_names = np.array(tfidf.get_feature_names())[indices]\n",
    "    # Split features in single or two word grams\n",
    "    unigrams = [word for word in feature_names if len(word.split(' ')) == 1]\n",
    "    biggrams = [words for words in feature_names if len(words.split(' ')) == 2]\n",
    "    \n",
    "    # If we don't have enough tokens for any charater we fill it with nan \n",
    "    if len(unigrams) < token_count:\n",
    "        for i in range(len(unigrams), token_count+1):\n",
    "            unigrams.append(np.nan)\n",
    "    if len(biggrams) < token_count:\n",
    "        for i in range(len(biggrams), token_count+1):\n",
    "            biggrams.append(np.nan)\n",
    "    \n",
    "    # Append most common single word tokens to the dataframe\n",
    "    character = \"UNI: \" + character_dict[character_id]\n",
    "    most_popular_df = most_popular_df.append(\n",
    "        pd.DataFrame([unigrams[-token_count:]], index=[character], columns=tokenNames))\n",
    "    # Append the most common two word tokens to the dataframe\n",
    "    character = \"BIG: \" + character_dict[character_id]                                          \n",
    "    most_popular_df = most_popular_df.append(pd.DataFrame([biggrams[-token_count:]], index=[character], columns=tokenNames))\n",
    "                                               \n",
    "most_popular_df.head(10)"
   ]
  },
  {
   "cell_type": "code",
   "execution_count": 9,
   "metadata": {},
   "outputs": [],
   "source": [
    "x_train, x_test, y_train, y_test = train_test_split(simpsons_df[['normalized_text', 'location_id', 'episode_id', 'word_count']], simpsons_df['character_id'], random_state=42, test_size=0.2)\n",
    "x_train_vec = tfidf.fit_transform(x_train['normalized_text'])\n",
    "x_test_vec = tfidf.transform(x_test['normalized_text'])\n",
    "x_train_others = x_train[['location_id', 'episode_id', 'word_count']]\n",
    "x_test_other = x_test[['location_id', 'episode_id', 'word_count']]\n"
   ]
  },
  {
   "cell_type": "code",
   "execution_count": 10,
   "metadata": {},
   "outputs": [],
   "source": [
    "def print_cnf_matrix(test, prediction):\n",
    "    cnf_matrix = confusion_matrix(test, prediction)\n",
    "    plt.subplots(figsize=(15,8))\n",
    "    sns.heatmap(cnf_matrix, annot=False, fmt='d', vmax=100, cmap='GnBu')\n",
    "    plt.show()"
   ]
  },
  {
   "cell_type": "code",
   "execution_count": 11,
   "metadata": {},
   "outputs": [
    {
     "name": "stdout",
     "output_type": "stream",
     "text": [
      "The accuracy is: 0.3580116847045302\n"
     ]
    },
    {
     "data": {
      "image/png": "[encoded data removed]",
      "text/plain": [
       "<matplotlib.figure.Figure at 0x11ce36f28>"
      ]
     },
     "metadata": {},
     "output_type": "display_data"
    }
   ],
   "source": [
    "clf = DecisionTreeClassifier(random_state=42)\n",
    "clf.fit(x_train_others, y_train)\n",
    "\n",
    "prediction = clf.predict(x_test_other)\n",
    "print(\"The accuracy is:\", accuracy_score(y_test, prediction))\n",
    "print_cnf_matrix(y_test, prediction)"
   ]
  },
  {
   "cell_type": "code",
   "execution_count": 12,
   "metadata": {},
   "outputs": [
    {
     "name": "stderr",
     "output_type": "stream",
     "text": [
      "/Library/Frameworks/Python.framework/Versions/3.6/lib/python3.6/site-packages/sklearn/linear_model/logistic.py:432: FutureWarning: Default solver will be changed to 'lbfgs' in 0.22. Specify a solver to silence this warning.\n",
      "  FutureWarning)\n",
      "/Library/Frameworks/Python.framework/Versions/3.6/lib/python3.6/site-packages/sklearn/linear_model/logistic.py:459: FutureWarning: Default multi_class will be changed to 'auto' in 0.22. Specify the multi_class option to silence this warning.\n",
      "  \"this warning.\", FutureWarning)\n"
     ]
    },
    {
     "name": "stdout",
     "output_type": "stream",
     "text": [
      "The accuracy is: 0.4227564409539316\n"
     ]
    },
    {
     "data": {
      "image/png": "[encoded data removed]",
      "text/plain": [
       "<matplotlib.figure.Figure at 0x11242d400>"
      ]
     },
     "metadata": {},
     "output_type": "display_data"
    },
    {
     "data": {
      "text/plain": [
       "array([71,  2,  2, ...,  8,  2,  9])"
      ]
     },
     "execution_count": 12,
     "metadata": {},
     "output_type": "execute_result"
    }
   ],
   "source": [
    "mapper = DataFrameMapper([('normalized_text', \n",
    "                          TfidfVectorizer(sublinear_tf=True, \n",
    "                                          min_df=5, \n",
    "                                          stop_words='english', \n",
    "                                          norm='l2', \n",
    "                                          ngram_range=(1,3))),\n",
    "                         ('episode_id', LabelEncoder()),\n",
    "                         ('location_id', LabelEncoder()),\n",
    "                         ('word_count', None)])\n",
    "\n",
    "features = mapper.fit_transform(simpsons_df[['normalized_text', 'location_id', 'episode_id', 'word_count']])\n",
    "\n",
    "x_train, x_test, y_train, y_test = train_test_split(features, \n",
    "                                                    simpsons_df['character_id'], \n",
    "                                                    random_state=42, \n",
    "                                                    test_size=0.2)\n",
    "from sklearn.neural_network import MLPClassifier\n",
    "\n",
    "svc = LogisticRegression(C=2)\n",
    "\n",
    "svc.fit(x_train, y_train)\n",
    "\n",
    "test_prediction = svc.predict(x_test)\n",
    "print(\"The accuracy is:\", accuracy_score(y_test, test_prediction))\n",
    "print_cnf_matrix(y_test, test_prediction)\n",
    "test_prediction"
   ]
  },
  {
   "cell_type": "code",
   "execution_count": null,
   "metadata": {},
   "outputs": [],
   "source": []
  },
  {
   "cell_type": "code",
   "execution_count": 13,
   "metadata": {},
   "outputs": [],
   "source": [
    "def fit_multiple_estimators(classifiers, X_list, y, sample_weights = None):\n",
    "\n",
    "    # Convert the labels `y` using LabelEncoder, because the predict method is using index-based pointers\n",
    "    # which will be converted back to original data later.\n",
    "    le_ = LabelEncoder()\n",
    "    le_.fit(y)\n",
    "    transformed_y = le_.transform(y)\n",
    "\n",
    "    # Fit all estimators with their respective feature arrays\n",
    "    estimators_ = [clf.fit(X, y) if sample_weights is None else clf.fit(X, y, sample_weights) for clf, X in zip([clf for _, clf in classifiers], X_list)]\n",
    "\n",
    "    return estimators_, le_\n",
    "\n",
    "def predict_from_multiple_estimator(estimators, label_encoder, X_list, weights = None):\n",
    "\n",
    "    # Predict 'soft' voting with probabilities\n",
    "\n",
    "    pred1 = np.asarray([clf.predict_proba(X) for clf, X in zip(estimators, X_list)])\n",
    "    pred2 = np.average(pred1, axis=0, weights=weights)\n",
    "    pred = np.argmax(pred2, axis=1)\n",
    "\n",
    "    # Convert integer predictions to original labels:\n",
    "    return label_encoder.inverse_transform(pred)"
   ]
  },
  {
   "cell_type": "code",
   "execution_count": 14,
   "metadata": {},
   "outputs": [
    {
     "name": "stdout",
     "output_type": "stream",
     "text": [
      "0.3910544966957188\n"
     ]
    }
   ],
   "source": [
    "mnb = MultinomialNB(alpha=0.33684210526315794)\n",
    "mnb.fit(x_train_vec, y_train)\n",
    "mnb.predict_proba(x_test_vec)\n",
    "\n",
    "\n",
    "\n",
    "classifiers = [('mnb', MultinomialNB(alpha=0.33684210526315794)),('clf', DecisionTreeClassifier(random_state=42))]\n",
    "x_list_train = [x_train_vec, x_train_others] \n",
    "x_list_test = [x_test_vec, x_test_other]\n",
    "\n",
    "fitted_estimators, label_encoder = fit_multiple_estimators(classifiers, x_list_train, y_train)\n",
    "y_pred = predict_from_multiple_estimator(fitted_estimators, label_encoder, x_list_test)\n",
    "\n",
    "print(accuracy_score(y_test, y_pred))\n"
   ]
  },
  {
   "cell_type": "code",
   "execution_count": 15,
   "metadata": {},
   "outputs": [
    {
     "name": "stderr",
     "output_type": "stream",
     "text": [
      "/Library/Frameworks/Python.framework/Versions/3.6/lib/python3.6/site-packages/sklearn/linear_model/logistic.py:432: FutureWarning: Default solver will be changed to 'lbfgs' in 0.22. Specify a solver to silence this warning.\n",
      "  FutureWarning)\n",
      "/Library/Frameworks/Python.framework/Versions/3.6/lib/python3.6/site-packages/sklearn/linear_model/logistic.py:459: FutureWarning: Default multi_class will be changed to 'auto' in 0.22. Specify the multi_class option to silence this warning.\n",
      "  \"this warning.\", FutureWarning)\n"
     ]
    },
    {
     "name": "stdout",
     "output_type": "stream",
     "text": [
      "The accuracy is: 0.4137534718896657\n"
     ]
    },
    {
     "data": {
      "image/png": "[encoded data removed]",
      "text/plain": [
       "<matplotlib.figure.Figure at 0x11a705908>"
      ]
     },
     "metadata": {},
     "output_type": "display_data"
    },
    {
     "data": {
      "text/plain": [
       "array([71,  2,  2, ...,  8,  2,  9])"
      ]
     },
     "execution_count": 15,
     "metadata": {},
     "output_type": "execute_result"
    }
   ],
   "source": [
    "\n",
    "\n",
    "svc = LogisticRegression(C=2)\n",
    "\n",
    "svc.fit(x_train_vec, y_train)\n",
    "\n",
    "test_prediction = svc.predict(x_test_vec)\n",
    "print(\"The accuracy is:\", accuracy_score(y_test, test_prediction))\n",
    "print_cnf_matrix(y_test, test_prediction)\n",
    "test_prediction"
   ]
  }
 ],
 "metadata": {
  "kernelspec": {
   "display_name": "Python 3",
   "language": "python",
   "name": "python3"
  },
  "language_info": {
   "codemirror_mode": {
    "name": "ipython",
    "version": 3
   },
   "file_extension": ".py",
   "mimetype": "text/x-python",
   "name": "python",
   "nbconvert_exporter": "python",
   "pygments_lexer": "ipython3",
   "version": "3.6.4"
  }
 },
 "nbformat": 4,
 "nbformat_minor": 2
}
